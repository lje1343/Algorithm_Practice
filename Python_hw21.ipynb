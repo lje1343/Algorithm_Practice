{
  "nbformat": 4,
  "nbformat_minor": 0,
  "metadata": {
    "colab": {
      "name": "Python_hw21",
      "provenance": [],
      "collapsed_sections": [],
      "authorship_tag": "ABX9TyNY2XQEbDi/siPOrI8/qa4/",
      "include_colab_link": true
    },
    "kernelspec": {
      "name": "python3",
      "display_name": "Python 3"
    },
    "language_info": {
      "name": "python"
    }
  },
  "cells": [
    {
      "cell_type": "markdown",
      "metadata": {
        "id": "view-in-github",
        "colab_type": "text"
      },
      "source": [
        "<a href=\"https://colab.research.google.com/github/lje1343/Prac/blob/main/Python_hw21.ipynb\" target=\"_parent\"><img src=\"https://colab.research.google.com/assets/colab-badge.svg\" alt=\"Open In Colab\"/></a>"
      ]
    },
    {
      "cell_type": "code",
      "source": [
        "#121\n",
        "#문자열 객체는 최초에 한 번 생성되면 절대로 값이 변하지 않는다.\n",
        "\n",
        "#122\n",
        "#재사용 가능성이 높기 때문에 같은 값일 경우 메모리 용량에 안좋기 때문이\n",
        "\n",
        "#123\n",
        "#3\n",
        "\n",
        "#124\n",
        "2\n",
        "\n",
        "#126\n",
        "#intern() 메서드는 String pool에서 리터럴 문자열이 이미 존재하는지 체크하고 존재하면 해당 문자열을 반환하고, 아니면 리터럴을 String pool에 넣어준다.\n",
        "\n",
        "#127\n",
        "#문자열 리터럴을 사용하면 이스케이프 문자를 사용하지 않아도 되며 원시 문자열 리터럴을 사용하여 모든 유형의 문자열 리터럴을 표현할 수 있다.\n",
        "\n",
        "#128\n",
        "#String과 다른 클래스(StringBuffer, StringBuilder)의 차이점은 \n",
        "#두 문자열 클래스의 아주 기본적인 차이는 String은 immutable(불변), StringBuffer는 mutable(변함)이다.\n",
        "\n",
        "#129\n",
        "# public class ImmutableString {\n",
        "\t\n",
        "# \tprivate final String name;\n",
        "\t\n",
        "# \tImmutableString(String name){\n",
        "# \t\tthis.name = name;\n",
        "# \t}\n",
        "\t\n",
        "# \tpublic String toString(){\n",
        "# \t\treturn this.name;\n",
        "# \t}\n",
        "\n",
        "# }\n",
        "\n",
        "#130\n",
        "#메서드는 객체가 가지고 있는 정보나 값들을 문자열로 만들어 리턴하는 메소드로,\n",
        "# .toString(); 으로 사용한다."
      ],
      "metadata": {
        "id": "SEQfjLbq_8q4"
      },
      "execution_count": null,
      "outputs": []
    },
    {
      "cell_type": "code",
      "execution_count": null,
      "metadata": {
        "colab": {
          "base_uri": "https://localhost:8080/"
        },
        "id": "hmhYarih3KXp",
        "outputId": "2b621e94-faf7-40ec-e6de-00f2169f0655"
      },
      "outputs": [
        {
          "output_type": "stream",
          "name": "stdout",
          "text": [
            "17 4\n",
            "3\n"
          ]
        }
      ],
      "source": [
        "# 그리드 알고리즘\n",
        "\n",
        "N, K = map(int, input().split())\n",
        "\n",
        "cnt=0\n",
        "\n",
        "while True:\n",
        "  \n",
        "  while N%K == 0:\n",
        "    N = N//K\n",
        "    cnt+=1\n",
        "  \n",
        "  if N==1:\n",
        "    break\n",
        "  \n",
        "  N-=1\n",
        "  cnt+=1\n",
        "\n",
        "print(cnt)"
      ]
    }
  ]
}
